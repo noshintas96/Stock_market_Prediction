import tensorflow as tf
from tensorflow.keras import layers
from preprocessing import DataProcessing
# import pandas_datareader.data as pdr if using the single test below


process = DataProcessing("AMZN.csv", 0.9)

process.gen_test(50)
process.gen_train(50)

X_train = process.X_train / 200
Y_train = process.Y_train / 200

X_test = process.X_test / 200
Y_test = process.Y_test / 200

model = tf.keras.models.Sequential()
model.add(tf.keras.layers.Dense(100, activation=tf.nn.relu))
model.add(tf.keras.layers.Dense(100, activation=tf.nn.relu))
model.add(tf.keras.layers.Dense(1, activation=tf.nn.relu))

model.compile(optimizer="adam", loss="mean_squared_error", metrics = ['acc'])

model.fit(X_train, Y_train, epochs=100)


score = model.evaluate(X_train, Y_train)
print('Test loss:', score[0])
print('Test accuracy:', score[1])